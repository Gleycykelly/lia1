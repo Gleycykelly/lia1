{
  "cells": [
    {
      "cell_type": "markdown",
      "metadata": {
        "id": "view-in-github",
        "colab_type": "text"
      },
      "source": [
        "<a href=\"https://colab.research.google.com/github/Gleycykelly/lia1/blob/main/C%C3%B3pia_de_Aula1.ipynb\" target=\"_parent\"><img src=\"https://colab.research.google.com/assets/colab-badge.svg\" alt=\"Open In Colab\"/></a>"
      ]
    },
    {
      "cell_type": "markdown",
      "id": "079dd31d",
      "metadata": {
        "id": "079dd31d"
      },
      "source": [
        "<hr style=\"height:10px\"> \n",
        " \n",
        "<div class='container2'>\n",
        "\t<div style='padding: 0 7em 2em 12em;'>\n",
        "\t<h1>Laboratório de Inovação e Automação 1 (LIA 1)</h1>\n",
        "\t<div style=\"font-size:12pt;float:left;\"> 2023/1 | 46M34 | Sala 200 CAE</div><br><br>\n",
        "    <div style=\"font-size:12pt;float:left;\"><b>Projetos de Inteligência Artificial</b></div>\n",
        "\t</div>\n",
        "</div>\n",
        "\n",
        "\n",
        " <hr style=\"height:5px\"> \n",
        "\n",
        "    \n",
        "<h2>Introdução ao Ambiente de Projetos</h2>\n",
        "\n",
        "Notebook desenvolvido por: Gleycykelly Syssy Indymayer Carnot Amaro\n",
        "\n",
        " <hr style=\"height:2px\"> "
      ]
    },
    {
      "cell_type": "code",
      "execution_count": null,
      "id": "7fdbe912",
      "metadata": {
        "id": "7fdbe912",
        "outputId": "60a588cb-a398-4460-811d-df92eb7195d3"
      },
      "outputs": [
        {
          "name": "stdout",
          "output_type": "stream",
          "text": [
            "A versão do python usada neste projeto é 3.10.9!\n"
          ]
        }
      ],
      "source": [
        "from platform import python_version\n",
        "print(f'A versão do python usada neste projeto é {python_version()}!')"
      ]
    },
    {
      "cell_type": "code",
      "execution_count": null,
      "id": "1cc287cb",
      "metadata": {
        "id": "1cc287cb",
        "outputId": "91c0002d-ff1b-4184-c920-4e5cc1657e30"
      },
      "outputs": [
        {
          "name": "stdout",
          "output_type": "stream",
          "text": [
            "Bye bye, world!\n"
          ]
        }
      ],
      "source": [
        "# Verificar se o python está funcionando\n",
        "print('Bye bye, world!')"
      ]
    },
    {
      "cell_type": "markdown",
      "id": "f806a95a",
      "metadata": {
        "id": "f806a95a"
      },
      "source": [
        "# Operadores aritméticos"
      ]
    },
    {
      "cell_type": "code",
      "execution_count": null,
      "id": "86378ec6",
      "metadata": {
        "id": "86378ec6",
        "outputId": "b2285d6a-11c1-47a0-90bf-acee92fce750"
      },
      "outputs": [
        {
          "data": {
            "text/plain": [
              "2"
            ]
          },
          "execution_count": 3,
          "metadata": {},
          "output_type": "execute_result"
        }
      ],
      "source": [
        "# Adição\n",
        "1 + 1"
      ]
    },
    {
      "cell_type": "code",
      "execution_count": null,
      "id": "a52fe36d",
      "metadata": {
        "id": "a52fe36d",
        "outputId": "db12c840-6356-41d7-b8f2-63cb68f0f966"
      },
      "outputs": [
        {
          "data": {
            "text/plain": [
              "1"
            ]
          },
          "execution_count": 4,
          "metadata": {},
          "output_type": "execute_result"
        }
      ],
      "source": [
        "# Subtração\n",
        "2 - 1 "
      ]
    },
    {
      "cell_type": "code",
      "execution_count": null,
      "id": "294b0ddf",
      "metadata": {
        "id": "294b0ddf",
        "outputId": "cf9a82a2-4c5f-408f-d970-15adcc505e14"
      },
      "outputs": [
        {
          "data": {
            "text/plain": [
              "4"
            ]
          },
          "execution_count": 5,
          "metadata": {},
          "output_type": "execute_result"
        }
      ],
      "source": [
        "# Multiplicação\n",
        "2 * 2"
      ]
    },
    {
      "cell_type": "code",
      "execution_count": null,
      "id": "b6fd50dd",
      "metadata": {
        "id": "b6fd50dd",
        "outputId": "482af875-f324-4d6e-ad80-e079643c710d"
      },
      "outputs": [
        {
          "data": {
            "text/plain": [
              "1.5"
            ]
          },
          "execution_count": 10,
          "metadata": {},
          "output_type": "execute_result"
        }
      ],
      "source": [
        "# Divisão\n",
        "3 / 2"
      ]
    },
    {
      "cell_type": "code",
      "execution_count": null,
      "id": "00ff206c",
      "metadata": {
        "id": "00ff206c",
        "outputId": "26a77299-f1ad-4dcd-c5cd-b80b519acc8c"
      },
      "outputs": [
        {
          "data": {
            "text/plain": [
              "16"
            ]
          },
          "execution_count": 7,
          "metadata": {},
          "output_type": "execute_result"
        }
      ],
      "source": [
        "# Potência\n",
        "4 ** 2"
      ]
    },
    {
      "cell_type": "code",
      "execution_count": null,
      "id": "c040c202",
      "metadata": {
        "id": "c040c202",
        "outputId": "b79d8d9b-293c-4391-f99e-c448fc8567a3"
      },
      "outputs": [
        {
          "data": {
            "text/plain": [
              "1"
            ]
          },
          "execution_count": 8,
          "metadata": {},
          "output_type": "execute_result"
        }
      ],
      "source": [
        "# Módulo (resto da divisão)\n",
        "10 % 3"
      ]
    },
    {
      "cell_type": "markdown",
      "id": "8e34433d",
      "metadata": {
        "id": "8e34433d"
      },
      "source": [
        "# Tipo de Dados (type)"
      ]
    },
    {
      "cell_type": "code",
      "execution_count": null,
      "id": "8171b88f",
      "metadata": {
        "id": "8171b88f",
        "outputId": "3a0ff773-7932-4157-feba-c4c97fc3cbdc"
      },
      "outputs": [
        {
          "data": {
            "text/plain": [
              "int"
            ]
          },
          "execution_count": 11,
          "metadata": {},
          "output_type": "execute_result"
        }
      ],
      "source": [
        "# Qual o tipo do (?) -> Inteiro\n",
        "type(5)"
      ]
    },
    {
      "cell_type": "code",
      "execution_count": null,
      "id": "da9e9e9c",
      "metadata": {
        "id": "da9e9e9c",
        "outputId": "d9d08bbd-95f9-49a3-a769-075586aacd1f"
      },
      "outputs": [
        {
          "data": {
            "text/plain": [
              "float"
            ]
          },
          "execution_count": 12,
          "metadata": {},
          "output_type": "execute_result"
        }
      ],
      "source": [
        "# Qual o tipo do (?) -> Float - Decimal\n",
        "type(5.0)"
      ]
    },
    {
      "cell_type": "code",
      "execution_count": null,
      "id": "c1d9d0a7",
      "metadata": {
        "id": "c1d9d0a7",
        "outputId": "54098e59-48d7-48f8-b8fe-9e41220e3464"
      },
      "outputs": [
        {
          "data": {
            "text/plain": [
              "str"
            ]
          },
          "execution_count": 15,
          "metadata": {},
          "output_type": "execute_result"
        }
      ],
      "source": [
        "# Qual o tipo do (?) -> String\n",
        "a = \"Estudando python!\"\n",
        "type(a)"
      ]
    },
    {
      "cell_type": "markdown",
      "id": "d1a72635",
      "metadata": {
        "id": "d1a72635"
      },
      "source": [
        "# Condicional if"
      ]
    },
    {
      "cell_type": "code",
      "execution_count": null,
      "id": "c69da58b",
      "metadata": {
        "id": "c69da58b",
        "outputId": "ff677ffa-86f3-4283-9db3-2e3690a0c3a2"
      },
      "outputs": [
        {
          "name": "stdout",
          "output_type": "stream",
          "text": [
            "A sentença é verdadeira!\n"
          ]
        }
      ],
      "source": [
        "# Condicional if (Se)\n",
        "if 5 > 2:\n",
        "    print('A sentença é verdadeira!')"
      ]
    },
    {
      "cell_type": "code",
      "execution_count": null,
      "id": "1ebc794f",
      "metadata": {
        "id": "1ebc794f",
        "outputId": "5a20572b-a02f-443c-ff99-5c9d42936f7f"
      },
      "outputs": [
        {
          "name": "stdout",
          "output_type": "stream",
          "text": [
            "A sentença é falsa!\n"
          ]
        }
      ],
      "source": [
        "# Condicional if ...else\n",
        "if 5 < 2:\n",
        "    print('A sentença é verdadeira!')\n",
        "else: \n",
        "    print('A sentença é falsa!')"
      ]
    },
    {
      "cell_type": "code",
      "execution_count": null,
      "id": "dacf0d33",
      "metadata": {
        "id": "dacf0d33",
        "outputId": "a5e58b91-746e-47e0-a8d4-b9d381ef9f60"
      },
      "outputs": [
        {
          "name": "stdout",
          "output_type": "stream",
          "text": [
            "Hoje vai chover! :(\n"
          ]
        }
      ],
      "source": [
        "# Condicional if...else com variável\n",
        "dia = \"Quarta-feira\"\n",
        "\n",
        "if dia == \"Sexta-feira\":\n",
        "    print(\"Hoje fará sol!\")\n",
        "else:\n",
        "    print(\"Hoje vai chover! :(\")\n"
      ]
    },
    {
      "cell_type": "markdown",
      "id": "0d555eff",
      "metadata": {
        "id": "0d555eff"
      },
      "source": [
        "# Manipulando arquivos"
      ]
    },
    {
      "cell_type": "code",
      "execution_count": null,
      "id": "ded2a769",
      "metadata": {
        "id": "ded2a769"
      },
      "outputs": [],
      "source": [
        "# Abrindo o arquivo para leitura\n",
        "a1 = open(\"arquivo1.txt\", \"r\")"
      ]
    },
    {
      "cell_type": "code",
      "execution_count": null,
      "id": "a7d2e712",
      "metadata": {
        "id": "a7d2e712",
        "outputId": "14244f98-eb9c-4df1-9c59-2ece52c714e0"
      },
      "outputs": [
        {
          "name": "stdout",
          "output_type": "stream",
          "text": [
            "teste\n"
          ]
        }
      ],
      "source": [
        "# Lendo o arquivo\n",
        "print(a1.read())"
      ]
    },
    {
      "cell_type": "markdown",
      "id": "189c15bb",
      "metadata": {
        "id": "189c15bb"
      },
      "source": [
        "# Gravando arquivos (.txt)"
      ]
    },
    {
      "cell_type": "code",
      "execution_count": null,
      "id": "4a4bc2ad",
      "metadata": {
        "id": "4a4bc2ad"
      },
      "outputs": [],
      "source": [
        "# Abrindo o arquivo para gravação\n",
        "a2 = open(\"arquivo2.txt\", \"w\")"
      ]
    },
    {
      "cell_type": "code",
      "execution_count": null,
      "id": "c5727b09",
      "metadata": {
        "id": "c5727b09",
        "outputId": "c38d5996-6be4-4950-d64b-6707f3a9af01"
      },
      "outputs": [
        {
          "data": {
            "text/plain": [
              "18"
            ]
          },
          "execution_count": 34,
          "metadata": {},
          "output_type": "execute_result"
        }
      ],
      "source": [
        "# Gravando no arquivo\n",
        "a2.write(\"Aprendendo python!\")"
      ]
    },
    {
      "cell_type": "code",
      "execution_count": null,
      "id": "5cd769c0",
      "metadata": {
        "id": "5cd769c0"
      },
      "outputs": [],
      "source": [
        "# Abrindo o arquivo para leitura\n",
        "a2 = open(\"arquivo2.txt\", \"r\")"
      ]
    },
    {
      "cell_type": "code",
      "execution_count": null,
      "id": "575186de",
      "metadata": {
        "id": "575186de",
        "outputId": "544c572a-4e72-4ac3-890a-c983cd793bc4"
      },
      "outputs": [
        {
          "name": "stdout",
          "output_type": "stream",
          "text": [
            "Aprendendo python!\n"
          ]
        }
      ],
      "source": [
        "# Imprimindo o arquivo\n",
        "print(a2.read())"
      ]
    },
    {
      "cell_type": "code",
      "execution_count": null,
      "id": "fd0676a0",
      "metadata": {
        "id": "fd0676a0"
      },
      "outputs": [],
      "source": []
    }
  ],
  "metadata": {
    "kernelspec": {
      "display_name": "Python 3 (ipykernel)",
      "language": "python",
      "name": "python3"
    },
    "language_info": {
      "codemirror_mode": {
        "name": "ipython",
        "version": 3
      },
      "file_extension": ".py",
      "mimetype": "text/x-python",
      "name": "python",
      "nbconvert_exporter": "python",
      "pygments_lexer": "ipython3",
      "version": "3.10.9"
    },
    "colab": {
      "provenance": [],
      "include_colab_link": true
    }
  },
  "nbformat": 4,
  "nbformat_minor": 5
}